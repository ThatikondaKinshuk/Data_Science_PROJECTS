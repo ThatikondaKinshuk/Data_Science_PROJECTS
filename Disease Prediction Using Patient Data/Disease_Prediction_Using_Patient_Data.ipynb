{
 "cells": [
  {
   "cell_type": "code",
   "execution_count": 24,
   "metadata": {},
   "outputs": [
    {
     "name": "stdout",
     "output_type": "stream",
     "text": [
      "Collecting kagglehub\n",
      "  Downloading kagglehub-0.3.5-py3-none-any.whl.metadata (22 kB)\n",
      "Requirement already satisfied: pandas in /opt/anaconda3/lib/python3.12/site-packages (2.2.2)\n",
      "Requirement already satisfied: numpy in /opt/anaconda3/lib/python3.12/site-packages (1.26.4)\n",
      "Requirement already satisfied: seaborn in /opt/anaconda3/lib/python3.12/site-packages (0.13.2)\n",
      "Requirement already satisfied: matplotlib in /opt/anaconda3/lib/python3.12/site-packages (3.8.4)\n",
      "Requirement already satisfied: scikit-learn in /opt/anaconda3/lib/python3.12/site-packages (1.4.2)\n",
      "Requirement already satisfied: packaging in /opt/anaconda3/lib/python3.12/site-packages (from kagglehub) (23.2)\n",
      "Requirement already satisfied: requests in /opt/anaconda3/lib/python3.12/site-packages (from kagglehub) (2.32.2)\n",
      "Requirement already satisfied: tqdm in /opt/anaconda3/lib/python3.12/site-packages (from kagglehub) (4.66.4)\n",
      "Requirement already satisfied: python-dateutil>=2.8.2 in /opt/anaconda3/lib/python3.12/site-packages (from pandas) (2.9.0.post0)\n",
      "Requirement already satisfied: pytz>=2020.1 in /opt/anaconda3/lib/python3.12/site-packages (from pandas) (2024.1)\n",
      "Requirement already satisfied: tzdata>=2022.7 in /opt/anaconda3/lib/python3.12/site-packages (from pandas) (2023.3)\n",
      "Requirement already satisfied: contourpy>=1.0.1 in /opt/anaconda3/lib/python3.12/site-packages (from matplotlib) (1.2.0)\n",
      "Requirement already satisfied: cycler>=0.10 in /opt/anaconda3/lib/python3.12/site-packages (from matplotlib) (0.11.0)\n",
      "Requirement already satisfied: fonttools>=4.22.0 in /opt/anaconda3/lib/python3.12/site-packages (from matplotlib) (4.51.0)\n",
      "Requirement already satisfied: kiwisolver>=1.3.1 in /opt/anaconda3/lib/python3.12/site-packages (from matplotlib) (1.4.4)\n",
      "Requirement already satisfied: pillow>=8 in /opt/anaconda3/lib/python3.12/site-packages (from matplotlib) (10.3.0)\n",
      "Requirement already satisfied: pyparsing>=2.3.1 in /opt/anaconda3/lib/python3.12/site-packages (from matplotlib) (3.0.9)\n",
      "Requirement already satisfied: scipy>=1.6.0 in /opt/anaconda3/lib/python3.12/site-packages (from scikit-learn) (1.13.1)\n",
      "Requirement already satisfied: joblib>=1.2.0 in /opt/anaconda3/lib/python3.12/site-packages (from scikit-learn) (1.4.2)\n",
      "Requirement already satisfied: threadpoolctl>=2.0.0 in /opt/anaconda3/lib/python3.12/site-packages (from scikit-learn) (2.2.0)\n",
      "Requirement already satisfied: six>=1.5 in /opt/anaconda3/lib/python3.12/site-packages (from python-dateutil>=2.8.2->pandas) (1.16.0)\n",
      "Requirement already satisfied: charset-normalizer<4,>=2 in /opt/anaconda3/lib/python3.12/site-packages (from requests->kagglehub) (2.0.4)\n",
      "Requirement already satisfied: idna<4,>=2.5 in /opt/anaconda3/lib/python3.12/site-packages (from requests->kagglehub) (3.7)\n",
      "Requirement already satisfied: urllib3<3,>=1.21.1 in /opt/anaconda3/lib/python3.12/site-packages (from requests->kagglehub) (2.2.2)\n",
      "Requirement already satisfied: certifi>=2017.4.17 in /opt/anaconda3/lib/python3.12/site-packages (from requests->kagglehub) (2024.12.14)\n",
      "Downloading kagglehub-0.3.5-py3-none-any.whl (44 kB)\n",
      "\u001b[2K   \u001b[90m━━━━━━━━━━━━━━━━━━━━━━━━━━━━━━━━━━━━━━━━\u001b[0m \u001b[32m44.8/44.8 kB\u001b[0m \u001b[31m3.0 MB/s\u001b[0m eta \u001b[36m0:00:00\u001b[0m\n",
      "\u001b[?25hInstalling collected packages: kagglehub\n",
      "Successfully installed kagglehub-0.3.5\n"
     ]
    }
   ],
   "source": [
    "!pip install kagglehub pandas numpy seaborn matplotlib scikit-learn"
   ]
  },
  {
   "cell_type": "code",
   "execution_count": 25,
   "metadata": {},
   "outputs": [],
   "source": [
    "import kagglehub\n",
    "import pandas as pd\n",
    "import numpy as np\n",
    "import seaborn as sns\n",
    "import matplotlib.pyplot as plt\n",
    "\n",
    "from sklearn.model_selection import train_test_split\n",
    "from sklearn.ensemble import RandomForestClassifier\n",
    "from sklearn.metrics import classification_report, confusion_matrix, accuracy_score\n"
   ]
  },
  {
   "cell_type": "code",
   "execution_count": 26,
   "metadata": {},
   "outputs": [
    {
     "name": "stdout",
     "output_type": "stream",
     "text": [
      "Downloading from https://www.kaggle.com/api/v1/datasets/download/ehababoelnaga/multiple-disease-prediction?dataset_version_number=1...\n"
     ]
    },
    {
     "name": "stderr",
     "output_type": "stream",
     "text": [
      "100%|██████████| 285k/285k [00:00<00:00, 7.68MB/s]"
     ]
    },
    {
     "name": "stdout",
     "output_type": "stream",
     "text": [
      "Extracting files...\n",
      "Path to dataset files: /Users/thatikondakinshuk/.cache/kagglehub/datasets/ehababoelnaga/multiple-disease-prediction/versions/1\n"
     ]
    },
    {
     "name": "stderr",
     "output_type": "stream",
     "text": [
      "\n"
     ]
    }
   ],
   "source": [
    "# Download the latest version of the dataset\n",
    "path = kagglehub.dataset_download(\"ehababoelnaga/multiple-disease-prediction\")\n",
    "print(\"Path to dataset files:\", path)"
   ]
  },
  {
   "cell_type": "code",
   "execution_count": 27,
   "metadata": {},
   "outputs": [
    {
     "name": "stdout",
     "output_type": "stream",
     "text": [
      "['Blood_samples_dataset_balanced_2(f).csv', 'blood_samples_dataset_test.csv']\n"
     ]
    }
   ],
   "source": [
    "import os\n",
    "# List downloaded files\n",
    "print(os.listdir(path))"
   ]
  },
  {
   "cell_type": "code",
   "execution_count": 35,
   "metadata": {},
   "outputs": [
    {
     "name": "stdout",
     "output_type": "stream",
     "text": [
      "    Glucose  Cholesterol  Hemoglobin  Platelets  White Blood Cells  \\\n",
      "0  0.001827     0.033693    0.114755   0.997927           0.562604   \n",
      "1  0.436679     0.972653    0.084998   0.180909           0.675736   \n",
      "2  0.545697     0.324815    0.584467   0.475748           0.558596   \n",
      "3  0.172994     0.050351    0.736000   0.782022           0.069435   \n",
      "4  0.758534     0.739968    0.597868   0.772683           0.875720   \n",
      "\n",
      "   Red Blood Cells  Hematocrit  Mean Corpuscular Volume  \\\n",
      "0         0.866499    0.578042                 0.914615   \n",
      "1         0.563889    0.798382                 0.670361   \n",
      "2         0.661007    0.934056                 0.381782   \n",
      "3         0.085219    0.032907                 0.460619   \n",
      "4         0.860265    0.486189                 0.486686   \n",
      "\n",
      "   Mean Corpuscular Hemoglobin  Mean Corpuscular Hemoglobin Concentration  \\\n",
      "0                     0.026864                                   0.038641   \n",
      "1                     0.376092                                   0.184890   \n",
      "2                     0.500342                                   0.531829   \n",
      "3                     0.785448                                   0.491495   \n",
      "4                     0.621048                                   0.191756   \n",
      "\n",
      "   ...     HbA1c  LDL Cholesterol  HDL Cholesterol       ALT       AST  \\\n",
      "0  ...  0.653230         0.186104         0.430398  0.016678  0.885352   \n",
      "1  ...  0.833540         0.153001         0.458533  0.401845  0.635969   \n",
      "2  ...  0.678901         0.220479         0.817151  0.690981  0.101633   \n",
      "3  ...  0.381500         0.459396         0.420154  0.798537  0.399236   \n",
      "4  ...  0.993381         0.272338         0.663579  0.265227  0.918847   \n",
      "\n",
      "   Heart Rate  Creatinine  Troponin  C-reactive Protein   Disease  \n",
      "0    0.652733    0.788235  0.054788            0.031313  Thalasse  \n",
      "1    0.574425    0.047025  0.607985            0.594123  Diabetes  \n",
      "2    0.855740    0.551124  0.413294            0.070909  Heart Di  \n",
      "3    0.324600    0.499504  0.436662            0.242766  Diabetes  \n",
      "4    0.804910    0.571119  0.188368            0.750848  Heart Di  \n",
      "\n",
      "[5 rows x 25 columns]\n"
     ]
    }
   ],
   "source": [
    "# Load the dataset\n",
    "df = pd.read_csv(\"blood_samples_dataset_test.csv\")\n",
    "\n",
    "# Preview the first 5 rows\n",
    "print(df.head())"
   ]
  },
  {
   "cell_type": "code",
   "execution_count": 39,
   "metadata": {},
   "outputs": [
    {
     "name": "stdout",
     "output_type": "stream",
     "text": [
      "<class 'pandas.core.frame.DataFrame'>\n",
      "RangeIndex: 486 entries, 0 to 485\n",
      "Data columns (total 25 columns):\n",
      " #   Column                                     Non-Null Count  Dtype  \n",
      "---  ------                                     --------------  -----  \n",
      " 0   Glucose                                    486 non-null    float64\n",
      " 1   Cholesterol                                486 non-null    float64\n",
      " 2   Hemoglobin                                 486 non-null    float64\n",
      " 3   Platelets                                  486 non-null    float64\n",
      " 4   White Blood Cells                          486 non-null    float64\n",
      " 5   Red Blood Cells                            486 non-null    float64\n",
      " 6   Hematocrit                                 486 non-null    float64\n",
      " 7   Mean Corpuscular Volume                    486 non-null    float64\n",
      " 8   Mean Corpuscular Hemoglobin                486 non-null    float64\n",
      " 9   Mean Corpuscular Hemoglobin Concentration  486 non-null    float64\n",
      " 10  Insulin                                    486 non-null    float64\n",
      " 11  BMI                                        486 non-null    float64\n",
      " 12  Systolic Blood Pressure                    486 non-null    float64\n",
      " 13  Diastolic Blood Pressure                   486 non-null    float64\n",
      " 14  Triglycerides                              486 non-null    float64\n",
      " 15  HbA1c                                      486 non-null    float64\n",
      " 16  LDL Cholesterol                            486 non-null    float64\n",
      " 17  HDL Cholesterol                            486 non-null    float64\n",
      " 18  ALT                                        486 non-null    float64\n",
      " 19  AST                                        486 non-null    float64\n",
      " 20  Heart Rate                                 486 non-null    float64\n",
      " 21  Creatinine                                 486 non-null    float64\n",
      " 22  Troponin                                   486 non-null    float64\n",
      " 23  C-reactive Protein                         486 non-null    float64\n",
      " 24  Disease                                    486 non-null    object \n",
      "dtypes: float64(24), object(1)\n",
      "memory usage: 95.1+ KB\n",
      "None\n",
      "          Glucose  Cholesterol  Hemoglobin   Platelets  White Blood Cells  \\\n",
      "count  486.000000   486.000000  486.000000  486.000000         486.000000   \n",
      "mean     0.490044     0.506797    0.485502    0.528136           0.509783   \n",
      "std      0.284196     0.282871    0.298818    0.292610           0.290887   \n",
      "min      0.001827     0.003088    0.000719    0.000006          -0.000206   \n",
      "25%      0.236664     0.268021    0.201994    0.276155           0.264944   \n",
      "50%      0.496471     0.502397    0.477706    0.538642           0.511102   \n",
      "75%      0.727144     0.754638    0.750028    0.789486           0.767896   \n",
      "max      0.991742     0.999606    0.997876    0.999507           0.999646   \n",
      "\n",
      "       Red Blood Cells  Hematocrit  Mean Corpuscular Volume  \\\n",
      "count       486.000000  486.000000               486.000000   \n",
      "mean          0.504347    0.501042                 0.516185   \n",
      "std           0.302865    0.294501                 0.279954   \n",
      "min           0.000552    0.004556                 0.000309   \n",
      "25%           0.218573    0.246255                 0.287755   \n",
      "50%           0.518103    0.496275                 0.533319   \n",
      "75%           0.768466    0.761107                 0.746765   \n",
      "max           0.997267    1.000857                 0.996362   \n",
      "\n",
      "       Mean Corpuscular Hemoglobin  Mean Corpuscular Hemoglobin Concentration  \\\n",
      "count                   486.000000                                 486.000000   \n",
      "mean                      0.510145                                   0.501105   \n",
      "std                       0.285213                                   0.290614   \n",
      "min                      -0.000614                                   0.000719   \n",
      "25%                       0.259967                                   0.255839   \n",
      "50%                       0.498332                                   0.493929   \n",
      "75%                       0.761956                                   0.734817   \n",
      "max                       0.999234                                   0.999666   \n",
      "\n",
      "       ...  Triglycerides       HbA1c  LDL Cholesterol  HDL Cholesterol  \\\n",
      "count  ...     486.000000  486.000000       486.000000       486.000000   \n",
      "mean   ...       0.498538    0.489365         0.501706         0.487933   \n",
      "std    ...       0.288848    0.290849         0.286729         0.292726   \n",
      "min    ...       0.001885   -0.000991         0.001036        -0.000546   \n",
      "25%    ...       0.238772    0.239302         0.262516         0.229095   \n",
      "50%    ...       0.503164    0.481549         0.511373         0.481533   \n",
      "75%    ...       0.749527    0.725472         0.756136         0.741867   \n",
      "max    ...       0.999826    0.999265         0.999567         1.000744   \n",
      "\n",
      "              ALT         AST  Heart Rate  Creatinine    Troponin  \\\n",
      "count  486.000000  486.000000  486.000000  486.000000  486.000000   \n",
      "mean     0.500615    0.499675    0.493794    0.515541    0.510077   \n",
      "std      0.285374    0.301451    0.292400    0.287223    0.294011   \n",
      "min     -0.000312    0.002047    0.002145    0.008831    0.005714   \n",
      "25%      0.251076    0.239369    0.228581    0.262924    0.267101   \n",
      "50%      0.515321    0.497846    0.507581    0.526299    0.508479   \n",
      "75%      0.739248    0.775458    0.751124    0.777839    0.781128   \n",
      "max      1.000326    1.000402    0.999857    0.999348    1.000125   \n",
      "\n",
      "       C-reactive Protein  \n",
      "count          486.000000  \n",
      "mean             0.517365  \n",
      "std              0.291645  \n",
      "min             -0.000991  \n",
      "25%              0.263192  \n",
      "50%              0.546542  \n",
      "75%              0.776940  \n",
      "max              0.999488  \n",
      "\n",
      "[8 rows x 24 columns]\n",
      "Glucose                                      0\n",
      "Cholesterol                                  0\n",
      "Hemoglobin                                   0\n",
      "Platelets                                    0\n",
      "White Blood Cells                            0\n",
      "Red Blood Cells                              0\n",
      "Hematocrit                                   0\n",
      "Mean Corpuscular Volume                      0\n",
      "Mean Corpuscular Hemoglobin                  0\n",
      "Mean Corpuscular Hemoglobin Concentration    0\n",
      "Insulin                                      0\n",
      "BMI                                          0\n",
      "Systolic Blood Pressure                      0\n",
      "Diastolic Blood Pressure                     0\n",
      "Triglycerides                                0\n",
      "HbA1c                                        0\n",
      "LDL Cholesterol                              0\n",
      "HDL Cholesterol                              0\n",
      "ALT                                          0\n",
      "AST                                          0\n",
      "Heart Rate                                   0\n",
      "Creatinine                                   0\n",
      "Troponin                                     0\n",
      "C-reactive Protein                           0\n",
      "Disease                                      0\n",
      "dtype: int64\n"
     ]
    },
    {
     "data": {
      "image/png": "[encoded data removed]",
      "text/plain": [
       "<Figure size 640x480 with 1 Axes>"
      ]
     },
     "metadata": {},
     "output_type": "display_data"
    }
   ],
   "source": [
    "# Basic dataset info\n",
    "print(df.info())\n",
    "print(df.describe())\n",
    "\n",
    "# Check for missing values\n",
    "print(df.isnull().sum())\n",
    "\n",
    "# Visualize target distribution (assuming the target column is named 'disease')\n",
    "sns.countplot(x='HbA1c', data=df)\n",
    "plt.title('Target Distribution')\n",
    "plt.show()\n"
   ]
  },
  {
   "cell_type": "code",
   "execution_count": 42,
   "metadata": {},
   "outputs": [
    {
     "name": "stdout",
     "output_type": "stream",
     "text": [
      "    Glucose  Cholesterol  Hemoglobin  Platelets  White Blood Cells  \\\n",
      "0  0.001827     0.033693    0.114755   0.997927           0.562604   \n",
      "1  0.436679     0.972653    0.084998   0.180909           0.675736   \n",
      "2  0.545697     0.324815    0.584467   0.475748           0.558596   \n",
      "3  0.172994     0.050351    0.736000   0.782022           0.069435   \n",
      "4  0.758534     0.739968    0.597868   0.772683           0.875720   \n",
      "\n",
      "   Red Blood Cells  Hematocrit  Mean Corpuscular Volume  \\\n",
      "0         0.866499    0.578042                 0.914615   \n",
      "1         0.563889    0.798382                 0.670361   \n",
      "2         0.661007    0.934056                 0.381782   \n",
      "3         0.085219    0.032907                 0.460619   \n",
      "4         0.860265    0.486189                 0.486686   \n",
      "\n",
      "   Mean Corpuscular Hemoglobin  Mean Corpuscular Hemoglobin Concentration  \\\n",
      "0                     0.026864                                   0.038641   \n",
      "1                     0.376092                                   0.184890   \n",
      "2                     0.500342                                   0.531829   \n",
      "3                     0.785448                                   0.491495   \n",
      "4                     0.621048                                   0.191756   \n",
      "\n",
      "   ...     HbA1c  LDL Cholesterol  HDL Cholesterol       ALT       AST  \\\n",
      "0  ...  0.653230         0.186104         0.430398  0.016678  0.885352   \n",
      "1  ...  0.833540         0.153001         0.458533  0.401845  0.635969   \n",
      "2  ...  0.678901         0.220479         0.817151  0.690981  0.101633   \n",
      "3  ...  0.381500         0.459396         0.420154  0.798537  0.399236   \n",
      "4  ...  0.993381         0.272338         0.663579  0.265227  0.918847   \n",
      "\n",
      "   Heart Rate  Creatinine  Troponin  C-reactive Protein   Disease  \n",
      "0    0.652733    0.788235  0.054788            0.031313  Thalasse  \n",
      "1    0.574425    0.047025  0.607985            0.594123  Diabetes  \n",
      "2    0.855740    0.551124  0.413294            0.070909  Heart Di  \n",
      "3    0.324600    0.499504  0.436662            0.242766  Diabetes  \n",
      "4    0.804910    0.571119  0.188368            0.750848  Heart Di  \n",
      "\n",
      "[5 rows x 25 columns]\n"
     ]
    }
   ],
   "source": [
    "import pandas as pd\n",
    "\n",
    "# Example dataframe\n",
    "df = pd.read_csv('blood_samples_dataset_test.csv')\n",
    "\n",
    "# Select only numeric columns\n",
    "numeric_columns = df.select_dtypes(include=['number']).columns\n",
    "\n",
    "# Fill missing values with the median for numeric columns\n",
    "df[numeric_columns] = df[numeric_columns].fillna(df[numeric_columns].median())\n",
    "\n",
    "# Fill missing values for categorical columns using mode\n",
    "categorical_columns = df.select_dtypes(include=['object']).columns\n",
    "df[categorical_columns] = df[categorical_columns].fillna(df[categorical_columns].mode().iloc[0])\n",
    "\n",
    "# Verify the result\n",
    "print(df.head())\n",
    "\n"
   ]
  },
  {
   "cell_type": "code",
   "execution_count": 56,
   "metadata": {},
   "outputs": [],
   "source": [
    "# Define features (X) and target (y)\n",
    "X = df.drop('HbA1c', axis=1)\n",
    "y = df['HbA1c']\n",
    "\n",
    "# Split the data\n",
    "X_train, X_test, y_train, y_test = train_test_split(X, y, test_size=0.2, random_state=42)\n"
   ]
  },
  {
   "cell_type": "code",
   "execution_count": 58,
   "metadata": {},
   "outputs": [
    {
     "name": "stdout",
     "output_type": "stream",
     "text": [
      "[0.50276501 0.42505587 0.5261672  0.47675831 0.46077341 0.46442704\n",
      " 0.49787664 0.35893937 0.49867239 0.53002561 0.52664893 0.50436275\n",
      " 0.48416448 0.46585806 0.41687369 0.53334946 0.37573353 0.47799815\n",
      " 0.54220704 0.42383442 0.47668483 0.5445997  0.50574009 0.52174905\n",
      " 0.48583617 0.51563368 0.45358018 0.45707524 0.47864608 0.58874222\n",
      " 0.52517316 0.47667365 0.46984532 0.46170394 0.51718901 0.47496207\n",
      " 0.54522285 0.55141568 0.45178654 0.42797622 0.46490879 0.47416956\n",
      " 0.4747162  0.54476233 0.59028067 0.53008789 0.59921149 0.40264083\n",
      " 0.42182967 0.50018136 0.53907694 0.42675123 0.47356959 0.46835421\n",
      " 0.49015659 0.56884633 0.590326   0.57961768 0.50965653 0.48098593\n",
      " 0.47185049 0.52129537 0.60195933 0.42991583 0.5053887  0.55758681\n",
      " 0.35897871 0.55155279 0.58555452 0.52605743 0.52562791 0.61015604\n",
      " 0.48672698 0.49824092 0.54315323 0.50366798 0.4599526  0.57718327\n",
      " 0.54893185 0.54236291 0.60658748 0.49114445 0.43531077 0.6021627\n",
      " 0.45930899 0.50947173 0.51114025 0.45323765 0.51601995 0.60075049\n",
      " 0.4509071  0.47746986 0.5403491  0.59626107 0.56732042 0.55100237\n",
      " 0.57473273 0.4874698 ]\n"
     ]
    }
   ],
   "source": [
    "from sklearn.ensemble import RandomForestRegressor\n",
    "from sklearn.preprocessing import LabelEncoder, OneHotEncoder\n",
    "from sklearn.model_selection import train_test_split\n",
    "from sklearn.compose import ColumnTransformer\n",
    "from sklearn.pipeline import Pipeline\n",
    "from sklearn.impute import SimpleImputer\n",
    "\n",
    "# Assuming 'df' is your dataset\n",
    "X = df.drop('HbA1c', axis=1)  # Features\n",
    "y = df['HbA1c']  # Target variable (e.g., HbA1c levels)\n",
    "\n",
    "# Split the data into train and test sets\n",
    "X_train, X_test, y_train, y_test = train_test_split(X, y, test_size=0.2, random_state=42)\n",
    "\n",
    "# Define categorical and numeric columns\n",
    "categorical_features = X.select_dtypes(include=['object']).columns  # Categorical columns\n",
    "numeric_features = X.select_dtypes(include=['number']).columns  # Numeric columns\n",
    "\n",
    "# Create a column transformer for preprocessing\n",
    "preprocessor = ColumnTransformer(\n",
    "    transformers=[\n",
    "        ('num', SimpleImputer(strategy='median'), numeric_features),  # Handle missing values in numeric columns\n",
    "        ('cat', Pipeline(steps=[\n",
    "            ('imputer', SimpleImputer(strategy='most_frequent')),  # Handle missing categorical values\n",
    "            ('onehot', OneHotEncoder(handle_unknown='ignore'))  # OneHotEncode categorical columns\n",
    "        ]), categorical_features)\n",
    "    ])\n",
    "\n",
    "# Combine preprocessing and the regression model into a pipeline\n",
    "pipeline = Pipeline(steps=[\n",
    "    ('preprocessor', preprocessor),\n",
    "    ('model', RandomForestRegressor(random_state=42))  # Use RandomForestRegressor for continuous target variable\n",
    "])\n",
    "\n",
    "# Train the model\n",
    "pipeline.fit(X_train, y_train)\n",
    "\n",
    "# Make predictions\n",
    "y_pred = pipeline.predict(X_test)\n",
    "\n",
    "# Output predictions\n",
    "print(y_pred)\n"
   ]
  }
 ],
 "metadata": {
  "kernelspec": {
   "display_name": "base",
   "language": "python",
   "name": "python3"
  },
  "language_info": {
   "codemirror_mode": {
    "name": "ipython",
    "version": 3
   },
   "file_extension": ".py",
   "mimetype": "text/x-python",
   "name": "python",
   "nbconvert_exporter": "python",
   "pygments_lexer": "ipython3",
   "version": "3.12.4"
  }
 },
 "nbformat": 4,
 "nbformat_minor": 2
}
